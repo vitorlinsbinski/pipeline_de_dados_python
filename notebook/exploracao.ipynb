{
 "cells": [
  {
   "cell_type": "code",
   "execution_count": null,
   "id": "a274b62c",
   "metadata": {},
   "outputs": [],
   "source": [
    "path_json = '../data_raw/dados_empresaA.json'"
   ]
  },
  {
   "cell_type": "code",
   "execution_count": null,
   "id": "75971351",
   "metadata": {},
   "outputs": [],
   "source": [
    "import json\n",
    "\n",
    "with open(path_json, 'r') as file:\n",
    "    dados_json = json.load(file)\n",
    "\n",
    "print(dados_json)"
   ]
  },
  {
   "cell_type": "code",
   "execution_count": null,
   "id": "8441d54c",
   "metadata": {},
   "outputs": [],
   "source": [
    "type(dados_json)"
   ]
  },
  {
   "cell_type": "code",
   "execution_count": null,
   "id": "8eb7fe89",
   "metadata": {},
   "outputs": [],
   "source": [
    "type(dados_json[0])"
   ]
  },
  {
   "cell_type": "code",
   "execution_count": null,
   "id": "0f2d4736",
   "metadata": {},
   "outputs": [],
   "source": [
    "path_csv = '../data_raw/dados_empresaB.csv'"
   ]
  },
  {
   "cell_type": "code",
   "execution_count": null,
   "id": "b329199f",
   "metadata": {},
   "outputs": [],
   "source": [
    "with open(path_csv, 'r') as file:\n",
    "    dados_csv = file.readlines()"
   ]
  },
  {
   "cell_type": "code",
   "execution_count": null,
   "id": "6daf0e6e",
   "metadata": {},
   "outputs": [],
   "source": [
    "dados_csv[1][0]"
   ]
  },
  {
   "cell_type": "code",
   "execution_count": null,
   "id": "7f0149e4",
   "metadata": {},
   "outputs": [],
   "source": [
    "import csv"
   ]
  },
  {
   "cell_type": "code",
   "execution_count": null,
   "id": "8aae9a82",
   "metadata": {},
   "outputs": [],
   "source": [
    "dados_csv = []\n",
    "\n",
    "with open(path_csv, 'r') as file:\n",
    "    spamreader = csv.DictReader(file, delimiter=',')\n",
    "\n",
    "    for row in spamreader:\n",
    "        dados_csv.append(row)"
   ]
  },
  {
   "cell_type": "code",
   "execution_count": null,
   "id": "76f70f8b",
   "metadata": {},
   "outputs": [],
   "source": [
    "dados_csv[0]"
   ]
  },
  {
   "cell_type": "code",
   "execution_count": null,
   "id": "fdc72ff2",
   "metadata": {},
   "outputs": [],
   "source": [
    "type(dados_csv)"
   ]
  },
  {
   "cell_type": "code",
   "execution_count": null,
   "id": "d543fbbb",
   "metadata": {},
   "outputs": [],
   "source": [
    "type(dados_csv[0])"
   ]
  },
  {
   "cell_type": "code",
   "execution_count": null,
   "id": "dabb8464",
   "metadata": {},
   "outputs": [],
   "source": [
    "dados_csv"
   ]
  },
  {
   "cell_type": "code",
   "execution_count": null,
   "id": "f1861f9f",
   "metadata": {},
   "outputs": [],
   "source": [
    "dados_json[0]['Nome do Produto']"
   ]
  },
  {
   "cell_type": "code",
   "execution_count": null,
   "id": "273167c3",
   "metadata": {},
   "outputs": [],
   "source": [
    "nome_colunas_json = list(dados_json[0].keys())\n",
    "\n",
    "nome_colunas_json"
   ]
  },
  {
   "cell_type": "code",
   "execution_count": null,
   "id": "b0e6221d",
   "metadata": {},
   "outputs": [],
   "source": [
    "len(nome_colunas_json)"
   ]
  },
  {
   "cell_type": "code",
   "execution_count": null,
   "id": "3bec4d8c",
   "metadata": {},
   "outputs": [],
   "source": [
    "nome_colunas_csv = list(dados_csv[0].keys())\n",
    "\n",
    "nome_colunas_csv"
   ]
  },
  {
   "cell_type": "code",
   "execution_count": null,
   "id": "c05b9f25",
   "metadata": {},
   "outputs": [],
   "source": [
    "len(nome_colunas_csv)"
   ]
  },
  {
   "cell_type": "code",
   "execution_count": null,
   "id": "da788489",
   "metadata": {},
   "outputs": [],
   "source": [
    "list(dados_csv[0].items())"
   ]
  },
  {
   "cell_type": "code",
   "execution_count": null,
   "id": "46b0fd74",
   "metadata": {},
   "outputs": [],
   "source": [
    "key_mapping = {'Nome do Item': 'Nome do Produto',\n",
    "                'Classificação do Produto': 'Categoria do Produto',\n",
    "                'Valor em Reais (R$)': 'Preço do Produto (R$)',\n",
    "                'Quantidade em Estoque': 'Quantidade em Estoque',\n",
    "                'Nome da Loja': 'Filial',\n",
    "                'Data da Venda': 'Data da Venda'}\n",
    "key_mapping"
   ]
  },
  {
   "cell_type": "code",
   "execution_count": null,
   "id": "b53531be",
   "metadata": {},
   "outputs": [],
   "source": [
    "new_dados_csv = []\n",
    "\n",
    "for old_dict in dados_csv:\n",
    "    dict_temp = {}\n",
    "\n",
    "    for old_key, value in old_dict.items():\n",
    "        new_key = key_mapping[old_key]\n",
    "        dict_temp[new_key] = value\n",
    "    \n",
    "    new_dados_csv.append(dict_temp)\n",
    "\n",
    "new_dados_csv"
   ]
  },
  {
   "cell_type": "code",
   "execution_count": null,
   "id": "9ecc71af",
   "metadata": {},
   "outputs": [],
   "source": [
    "lista_livros = [\n",
    "    {\n",
    "        \"titulo\": \"1984\",\n",
    "        \"autor\": \"George Orwell\",\n",
    "        \"categoria\": \"FIC\"\n",
    "    },\n",
    "    {\n",
    "        \"titulo\": \"Uma Breve História do Tempo\",\n",
    "        \"autor\": \"Stephen Hawking\",\n",
    "        \"categoria\": \"SCI\"\n",
    "    }\n",
    "]\n",
    "\n",
    "categoria_mapping = {\n",
    "    'FIC': 'Ficção',\n",
    "    'BIO': 'Biografia',\n",
    "    'HIS': 'História',\n",
    "    'SCI': 'Ciência',\n",
    "    'PHI': 'Filosofia'\n",
    "}\n",
    "\n",
    "livros_atualizados = []\n",
    "\n",
    "for livro in lista_livros:\n",
    "    livro_atualizado = {}\n",
    "\n",
    "    for k, v in livro.items():\n",
    "        if k == 'categoria':\n",
    "            livro_atualizado[k] = categoria_mapping[v]\n",
    "        else:\n",
    "            livro_atualizado[k] = v\n",
    "    \n",
    "    livros_atualizados.append(livro_atualizado)\n",
    "\n",
    "livros_atualizados"
   ]
  },
  {
   "cell_type": "code",
   "execution_count": null,
   "id": "6f976f65",
   "metadata": {},
   "outputs": [],
   "source": [
    "len(dados_json)"
   ]
  },
  {
   "cell_type": "code",
   "execution_count": null,
   "id": "db14c6dd",
   "metadata": {},
   "outputs": [],
   "source": [
    "len(new_dados_csv)"
   ]
  },
  {
   "cell_type": "code",
   "execution_count": null,
   "id": "7e423e8a",
   "metadata": {},
   "outputs": [],
   "source": [
    "len(dados_json) + len(new_dados_csv)"
   ]
  },
  {
   "cell_type": "code",
   "execution_count": null,
   "id": "d91fbdc9",
   "metadata": {},
   "outputs": [],
   "source": [
    "combined_list = []\n",
    "combined_list.extend(dados_json)\n",
    "combined_list.extend(new_dados_csv)"
   ]
  },
  {
   "cell_type": "code",
   "execution_count": null,
   "id": "4f79ed1b",
   "metadata": {},
   "outputs": [],
   "source": [
    "len(combined_list)"
   ]
  },
  {
   "cell_type": "code",
   "execution_count": null,
   "id": "6da3ebdb",
   "metadata": {},
   "outputs": [],
   "source": [
    "combined_list[0]"
   ]
  },
  {
   "cell_type": "code",
   "execution_count": null,
   "id": "e9712a4e",
   "metadata": {},
   "outputs": [],
   "source": [
    "combined_list[-1]"
   ]
  },
  {
   "cell_type": "code",
   "execution_count": null,
   "id": "051f0e6a",
   "metadata": {},
   "outputs": [],
   "source": [
    "path_dados_combinados = '../data_processed/dados_combinados.csv'"
   ]
  },
  {
   "cell_type": "code",
   "execution_count": null,
   "id": "62a085a7",
   "metadata": {},
   "outputs": [],
   "source": [
    "nomes_colunas = list(combined_list[0].keys())\n",
    "\n",
    "nomes_colunas"
   ]
  },
  {
   "cell_type": "code",
   "execution_count": null,
   "id": "e7ddba39",
   "metadata": {},
   "outputs": [],
   "source": [
    "# with open(path_dados_combinados, 'w') as file:\n",
    "#     writer = csv.DictWriter(file, fieldnames=nomes_colunas)\n",
    "#     writer.writeheader()\n",
    "\n",
    "#     for row in combined_list:\n",
    "#         writer.writerow(row)"
   ]
  },
  {
   "cell_type": "code",
   "execution_count": null,
   "id": "e09b9301",
   "metadata": {},
   "outputs": [],
   "source": [
    "lista_clientes = [\n",
    "    {\n",
    "        \"Nome\": \"Lucas Silva\",\n",
    "        \"Idade\": 28,\n",
    "        \"E-mail\": \"lucas.silva@email.com\"\n",
    "    },\n",
    "    {\n",
    "        \"Nome\": \"Mariana Oliveira\",\n",
    "        \"Idade\": 34,\n",
    "        \"E-mail\": \"mariana.oliveira@email.com\"\n",
    "    },\n",
    "    {\n",
    "        \"Nome\": \"Roberto Alves\",\n",
    "        \"Idade\": 42,\n",
    "        \"E-mail\": \"roberto.alves@email.com\"\n",
    "    }\n",
    "]\n",
    "\n",
    "nomes_colunas_ex = list(lista_clientes[0].keys())\n",
    "csv_file_ex = '../ex/clientes.csv'\n",
    "csv_file_ex_2 = '../ex/clientes2.csv'\n",
    "\n",
    "with open(csv_file_ex, 'w') as file:\n",
    "    writer = csv.DictWriter(file, fieldnames=nomes_colunas_ex)\n",
    "    writer.writeheader()\n",
    "\n",
    "    for cliente in lista_clientes:\n",
    "        writer.writerow(cliente)\n",
    "\n",
    "with open(csv_file_ex_2, 'w') as file:\n",
    "    writer = csv.DictWriter(file, fieldnames=nomes_colunas_ex)\n",
    "    writer.writeheader()\n",
    "\n",
    "    writer.writerows(lista_clientes)"
   ]
  },
  {
   "cell_type": "markdown",
   "id": "414a0237",
   "metadata": {},
   "source": [
    "### List Comprehension"
   ]
  },
  {
   "cell_type": "code",
   "execution_count": null,
   "id": "2297011a",
   "metadata": {},
   "outputs": [],
   "source": [
    "numeros = [1, 2, 3, 4, 5, 6, 7, 8, 9, 10]\n",
    "pares = []\n",
    "\n",
    "for num in numeros:\n",
    "    if num % 2 == 0:\n",
    "        pares.append(num)\n",
    "        \n",
    "pares"
   ]
  },
  {
   "cell_type": "code",
   "execution_count": null,
   "id": "a8207fb7",
   "metadata": {},
   "outputs": [],
   "source": [
    "numeros = [1, 2, 3, 4, 5, 6, 7, 8, 9, 10]\n",
    "pares = [num for num in numeros if num % 2 == 0]\n",
    "\n",
    "pares"
   ]
  },
  {
   "cell_type": "code",
   "execution_count": null,
   "id": "57f0389e",
   "metadata": {},
   "outputs": [],
   "source": [
    "key_mapping = {\n",
    "    'Nome do Item': 'Nome do Produto',\n",
    "    'Classificação do Produto': 'Categoria do Produto',\n",
    "    'Valor em Reais (R$)': 'Preço do Produto (R$)',\n",
    "    'Quantidade em Estoque': 'Quantidade em Estoque',\n",
    "    'Nome da Loja': 'Filial',\n",
    "    'Data da Venda': 'Data da Venda'\n",
    "}\n",
    "\n",
    "new_dados_csv = [\n",
    "    {key_mapping.get(old_key): value for old_key, value in old_dict.items()}\n",
    "    for old_dict in dados_csv\n",
    "]\n",
    "\n",
    "new_dados_csv"
   ]
  },
  {
   "cell_type": "code",
   "execution_count": null,
   "id": "52649fef",
   "metadata": {},
   "outputs": [],
   "source": [
    "combined_list[0]"
   ]
  },
  {
   "cell_type": "code",
   "execution_count": null,
   "id": "97e74ab7",
   "metadata": {},
   "outputs": [],
   "source": [
    "combined_list[-1]"
   ]
  },
  {
   "cell_type": "code",
   "execution_count": null,
   "id": "91ef5c41",
   "metadata": {},
   "outputs": [],
   "source": [
    "combined_list[0]['Nome do Produto']"
   ]
  },
  {
   "cell_type": "code",
   "execution_count": null,
   "id": "4818b77a",
   "metadata": {},
   "outputs": [],
   "source": [
    "combined_list[-1]['Nome do Produto']"
   ]
  },
  {
   "cell_type": "code",
   "execution_count": null,
   "id": "8f3ab511",
   "metadata": {},
   "outputs": [],
   "source": [
    "combined_list[-1]['Data da Venda']"
   ]
  },
  {
   "cell_type": "code",
   "execution_count": null,
   "id": "806b6d84",
   "metadata": {},
   "outputs": [],
   "source": [
    "combined_list[0]['Data da Venda']"
   ]
  },
  {
   "cell_type": "code",
   "execution_count": null,
   "id": "02023428",
   "metadata": {},
   "outputs": [],
   "source": [
    "combined_list[0].get('Data da Venda')"
   ]
  },
  {
   "cell_type": "code",
   "execution_count": null,
   "id": "e642e082",
   "metadata": {},
   "outputs": [],
   "source": [
    "combined_list[-1].get('Data da Venda')"
   ]
  },
  {
   "cell_type": "code",
   "execution_count": null,
   "id": "26de4392",
   "metadata": {},
   "outputs": [],
   "source": [
    "combined_list[0].get('Data da Venda', 'Indisponível')"
   ]
  },
  {
   "cell_type": "code",
   "execution_count": null,
   "id": "13b9b973",
   "metadata": {},
   "outputs": [],
   "source": [
    "dados_transformados = []\n",
    "todas_as_colunas = list(combined_list[-1].keys())\n",
    "\n",
    "for dado in combined_list:\n",
    "    new_dict = {}\n",
    "\n",
    "    for coluna in todas_as_colunas:\n",
    "        new_dict[coluna] = dado.get(coluna, 'Indisponível')\n",
    "    \n",
    "    dados_transformados.append(new_dict)\n",
    "\n",
    "dados_transformados"
   ]
  },
  {
   "cell_type": "code",
   "execution_count": null,
   "id": "c673df0c",
   "metadata": {},
   "outputs": [],
   "source": [
    "dados_transformados[0]"
   ]
  },
  {
   "cell_type": "code",
   "execution_count": null,
   "id": "77152741",
   "metadata": {},
   "outputs": [],
   "source": [
    "nomes_colunas = list(combined_list[-1].keys())\n",
    "nomes_colunas"
   ]
  },
  {
   "cell_type": "code",
   "execution_count": null,
   "id": "26f8ef1a",
   "metadata": {},
   "outputs": [],
   "source": [
    "dados_combinados_tabela = [nomes_colunas]\n",
    "\n",
    "for row in combined_list:\n",
    "    linha = []\n",
    "\n",
    "    for coluna in nomes_colunas:\n",
    "        linha.append(row.get(coluna, 'Indisponível'))\n",
    "    \n",
    "    dados_combinados_tabela.append(linha)\n",
    "\n",
    "dados_combinados_tabela"
   ]
  },
  {
   "cell_type": "code",
   "execution_count": null,
   "id": "43241e1d",
   "metadata": {},
   "outputs": [],
   "source": [
    "dados_combinados_tabela[1]"
   ]
  },
  {
   "cell_type": "code",
   "execution_count": null,
   "id": "97d8a028",
   "metadata": {},
   "outputs": [],
   "source": [
    "dados_combinados_tabela[-1]"
   ]
  },
  {
   "cell_type": "code",
   "execution_count": null,
   "id": "7a567ad0",
   "metadata": {},
   "outputs": [],
   "source": [
    "path_dados_combinados = '../data_processed/dados_combinados.csv'\n",
    "\n",
    "with open(path_dados_combinados, 'w') as file:\n",
    "    writer = csv.writer(file)\n",
    "    writer.writerows(dados_combinados_tabela)"
   ]
  },
  {
   "cell_type": "code",
   "execution_count": null,
   "id": "1d61aef6",
   "metadata": {},
   "outputs": [],
   "source": [
    "dados = [\n",
    "    [\"Nome\", \"Nota 1\", \"Nota 2\", \"Média\"],  # Cabeçalho\n",
    "    [\"Lucas\", 8.5, 7.2, 7.85],              # Dados do aluno Lucas\n",
    "    [\"Mariana\", 9.0, 9.5, 9.25],            # Dados da aluna Mariana\n",
    "    [\"Roberto\", 7.0, 6.8, 6.9]              # Dados do aluno Roberto\n",
    "]\n",
    "\n",
    "with open('../ex/dados_alunos.csv', 'w') as file:\n",
    "    writer = csv.writer(file)\n",
    "    writer.writerows(dados)"
   ]
  }
 ],
 "metadata": {
  "kernelspec": {
   "display_name": ".venv",
   "language": "python",
   "name": "python3"
  },
  "language_info": {
   "codemirror_mode": {
    "name": "ipython",
    "version": 3
   },
   "file_extension": ".py",
   "mimetype": "text/x-python",
   "name": "python",
   "nbconvert_exporter": "python",
   "pygments_lexer": "ipython3",
   "version": "3.12.3"
  }
 },
 "nbformat": 4,
 "nbformat_minor": 5
}
